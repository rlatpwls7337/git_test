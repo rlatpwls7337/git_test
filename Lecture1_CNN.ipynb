{
  "nbformat": 4,
  "nbformat_minor": 0,
  "metadata": {
    "colab": {
      "private_outputs": true,
      "provenance": [],
      "collapsed_sections": [],
      "authorship_tag": "ABX9TyMN3sbtJECG/hiiLKeyLy+Z",
      "include_colab_link": true
    },
    "kernelspec": {
      "name": "python3",
      "display_name": "Python 3"
    },
    "language_info": {
      "name": "python"
    },
    "accelerator": "GPU"
  },
  "cells": [
    {
      "cell_type": "markdown",
      "metadata": {
        "id": "view-in-github",
        "colab_type": "text"
      },
      "source": [
        "<a href=\"https://colab.research.google.com/github/rlatpwls7337/git_test/blob/main/Lecture1_CNN.ipynb\" target=\"_parent\"><img src=\"https://colab.research.google.com/assets/colab-badge.svg\" alt=\"Open In Colab\"/></a>"
      ]
    },
    {
      "cell_type": "code",
      "source": [
        "!pip install tensorflow"
      ],
      "metadata": {
        "id": "5ZjYw3GgBymV"
      },
      "execution_count": null,
      "outputs": []
    },
    {
      "cell_type": "code",
      "execution_count": null,
      "metadata": {
        "id": "9iWQGJaMBhvB"
      },
      "outputs": [],
      "source": [
        "import numpy as np\n",
        "import os,matplotlib\n",
        "from matplotlib import pyplot as plt\n",
        "\n",
        "### tensorflow 2.0 ### \n",
        "import tensorflow as tf\n",
        "from tensorflow import keras\n",
        "from tensorflow.keras.models import Sequential,Model\n",
        "from tensorflow.keras import Input\n",
        "from tensorflow.keras import layers\n",
        "from tensorflow.keras import models\n",
        "from tensorflow.keras.preprocessing import image\n",
        "from tensorflow.keras.preprocessing.image import ImageDataGenerator\n",
        "from tensorflow.keras import losses\n",
        "from tensorflow.keras import optimizers\n",
        "from tensorflow.keras import metrics\n",
        "from tensorflow.keras import regularizers\n",
        "from tensorflow.keras import utils"
      ]
    },
    {
      "cell_type": "code",
      "source": [
        "import tensorflow as tf\n",
        "tf.config.list_physical_devices()"
      ],
      "metadata": {
        "id": "ogbcbKBADAVd"
      },
      "execution_count": null,
      "outputs": []
    },
    {
      "cell_type": "markdown",
      "source": [
        "### 2. 데이터 로딩"
      ],
      "metadata": {
        "id": "rkeCvdJdC1FH"
      }
    },
    {
      "cell_type": "code",
      "source": [
        "(x_train,y_train),(x_test,y_test) =  tf.keras.datasets.mnist.load_data(path='minist.npz')\n",
        "print(x_train.shape,y_train.shape)"
      ],
      "metadata": {
        "id": "HUgm5FEwBjyh"
      },
      "execution_count": null,
      "outputs": []
    },
    {
      "cell_type": "code",
      "source": [
        "# train과 test 시간 줄이기 위해서 학습 데이터 : 1000개, test 데이터: 200개 \n",
        "## 데이터 전처리\n",
        "x_train_list = []\n",
        "x_test_list = []\n",
        "\n",
        "for i, i_ in enumerate(x_train[:1000]):\n",
        "    arr = np.zeros(shape=(32,32))  # shape : max pooling을 해도 에러가 안 생기도록 2의 배수로 설정(pooling 5번 수행 가능) \n",
        "    arr[:28,:28] = x_train[i]\n",
        "    x_train_list.append(arr)\n",
        "\n",
        "for i, i_ in enumerate(x_test[:200]):\n",
        "    arr = np.zeros(shape=(32,32))  # shape : max pooling을 해도 에러가 안 생기도록 2의 배수로 설정(pooling 5번 수행 가능) \n",
        "    arr[:28,:28] = x_test[i]\n",
        "    x_test_list.append(arr) \n",
        "\n",
        "x_train1 = np.expand_dims(np.array(x_train_list),axis=-1)\n",
        "x_test1 = np.expand_dims(np.array(x_test_list),axis=-1)\n",
        "print(x_train1.shape,x_test1.shape)"
      ],
      "metadata": {
        "id": "eZ9nkWkBBj1Z"
      },
      "execution_count": null,
      "outputs": []
    },
    {
      "cell_type": "code",
      "source": [
        "y_train_list = []\n",
        "y_test_list = []\n",
        "\n",
        "for i, i_ in enumerate(y_train[:1000]):\n",
        "    zero = [0]*10\n",
        "    zero[i_]=1\n",
        "    y_train_list.append(zero)\n",
        "\n",
        "for i, i_ in enumerate(y_test[:200]):\n",
        "    zero = [0]*10\n",
        "    zero[i_]=1\n",
        "    y_test_list.append(zero)\n",
        "\n",
        "y_train1 = np.array(y_train_list)\n",
        "y_test1 = np.array(y_test_list)\n",
        "print(y_train1.shape,y_test1.shape)"
      ],
      "metadata": {
        "id": "YBZoH2oJBj4X"
      },
      "execution_count": null,
      "outputs": []
    },
    {
      "cell_type": "code",
      "source": [
        "plt.figure(figsize=(10,10))\n",
        "\n",
        "for i in range(3):\n",
        "    plt.subplot(1,3,i+1)  # 3개의 그림 그리기\n",
        "    plt.imshow(x_train1[i][...,0],cmap='gray')  # cmap = 'rgb'\n",
        "    plt.title('Class = {}'.format(y_train[i])) "
      ],
      "metadata": {
        "id": "Di4gAtvlBj7v"
      },
      "execution_count": null,
      "outputs": []
    },
    {
      "cell_type": "markdown",
      "source": [
        "### 3. 모델 만들기"
      ],
      "metadata": {
        "id": "gbJa4RSKHtr8"
      }
    },
    {
      "cell_type": "markdown",
      "source": [
        "## AI 모델을 구성하는 레이어 만들기"
      ],
      "metadata": {
        "id": "pEGMuH3HINaf"
      }
    },
    {
      "cell_type": "markdown",
      "source": [
        "##### AI 모델은 여러 개의 레이어를 쌓아 올려 만듭니다.\n",
        "##### 가장 대표적인 모델인 CONV-BN-ACT-POOL 구조를 만들어 보겠습니다.\n",
        "\n",
        "##### 먼저 데이터가 들어가는 첫 번째 레이어를 만들어 봅시다."
      ],
      "metadata": {
        "id": "jywT0t9OH0ZB"
      }
    },
    {
      "cell_type": "code",
      "source": [
        "first_layer = Input(shape=(32,32,1)) # 전처리했을 때 shape와 동일 "
      ],
      "metadata": {
        "id": "M9u52UpxBkA2"
      },
      "execution_count": null,
      "outputs": []
    },
    {
      "cell_type": "markdown",
      "source": [
        "##### 그 다음으로 데이터의 특징을 추출한 Convolusion layer을 연결하겠습니다."
      ],
      "metadata": {
        "id": "JLh7mVJzIcHM"
      }
    },
    {
      "cell_type": "code",
      "source": [
        "second_layer = layers.Conv2D(filters=8,kernel_size=(3,3),activation=None,padding='same')(first_layer)"
      ],
      "metadata": {
        "id": "DudyZB5ZBkGk"
      },
      "execution_count": null,
      "outputs": []
    },
    {
      "cell_type": "markdown",
      "source": [
        "##### 레이어 중간에서 정규화를 도와줄 Batch Normalization 과정을 추가\n",
        "- 기울기 소실 문제 방지\n",
        "- 데이터의 분포가 한 쪽으로 치우치지 않게 한다.\n",
        "- x data의 분포를 학습이 잘 되는 지점(선형과 비선형인 부분 중간 지점)으로 이동시킴"
      ],
      "metadata": {
        "id": "Zf6U3BjgJFJN"
      }
    },
    {
      "cell_type": "code",
      "source": [
        "third_layer = layers.BatchNormalization()(second_layer)"
      ],
      "metadata": {
        "id": "bZ9gPihMBkJn"
      },
      "execution_count": null,
      "outputs": []
    },
    {
      "cell_type": "markdown",
      "source": [
        "##### 배치 정규화 이후 신호를 변환하여 다음 뉴런으로 전달하는 Activation function layer를 추가"
      ],
      "metadata": {
        "id": "36KVjcgHJuq7"
      }
    },
    {
      "cell_type": "code",
      "source": [
        "fourth_layer = layers.Activation('relu')(third_layer)"
      ],
      "metadata": {
        "id": "CiEKSe_BBkMe"
      },
      "execution_count": null,
      "outputs": []
    },
    {
      "cell_type": "markdown",
      "source": [
        "##### 다음으로 이미지 사이즈를 줄여주는 Pooling layer를 연결한다."
      ],
      "metadata": {
        "id": "OM28vRy8J6CJ"
      }
    },
    {
      "cell_type": "code",
      "source": [
        "fifth_layer = layers.MaxPool2D(strides=(2,2))(fourth_layer)"
      ],
      "metadata": {
        "id": "gYg9wL1WBkPm"
      },
      "execution_count": null,
      "outputs": []
    },
    {
      "cell_type": "markdown",
      "source": [
        "##### 그 후 모든 뉴런을 1차원으로 shape을 바꿔준다."
      ],
      "metadata": {
        "id": "IOlok9QkK0j5"
      }
    },
    {
      "cell_type": "code",
      "source": [
        "sixth_layer = layers.Flatten()(fifth_layer)"
      ],
      "metadata": {
        "id": "Qeu1ccaRBkSZ"
      },
      "execution_count": null,
      "outputs": []
    },
    {
      "cell_type": "markdown",
      "source": [
        "##### full-connected 층에 이를 전달한다."
      ],
      "metadata": {
        "id": "iYBVVpmWLCcq"
      }
    },
    {
      "cell_type": "code",
      "source": [
        "seventh_layer = layers.Dense(100,activation='relu')(sixth_layer)"
      ],
      "metadata": {
        "id": "HwLQWa7gLBry"
      },
      "execution_count": null,
      "outputs": []
    },
    {
      "cell_type": "markdown",
      "source": [
        "##### dropout을 사용해 일부 뉴런들을 무작위로 전원 끔"
      ],
      "metadata": {
        "id": "yDIPCkFKLSBb"
      }
    },
    {
      "cell_type": "code",
      "source": [
        "eighth_layer = layers.Dropout(0.25)(seventh_layer)"
      ],
      "metadata": {
        "id": "RYLiH88TBkVd"
      },
      "execution_count": null,
      "outputs": []
    },
    {
      "cell_type": "markdown",
      "source": [
        "##### 마지막으로 최종 결과물을 출력해주는 layer를 만들어준다."
      ],
      "metadata": {
        "id": "TWkgIlXyLkPY"
      }
    },
    {
      "cell_type": "code",
      "source": [
        "final_layer = layers.Dense(10,activation='sigmoid')(eighth_layer)"
      ],
      "metadata": {
        "id": "FRQbWV7TBkY8"
      },
      "execution_count": null,
      "outputs": []
    },
    {
      "cell_type": "code",
      "source": [],
      "metadata": {
        "id": "ClCGqQOIBkbm"
      },
      "execution_count": null,
      "outputs": []
    },
    {
      "cell_type": "markdown",
      "source": [
        "#### 지금까지 넣어준 레이어를 모델 함수에 넣어 연결하면 모델이 완성된다."
      ],
      "metadata": {
        "id": "qF7wO-BNL1Qy"
      }
    },
    {
      "cell_type": "code",
      "source": [
        "model = Model(first_layer,final_layer)\n",
        "model.summary()"
      ],
      "metadata": {
        "id": "vJLhvYVLBkew"
      },
      "execution_count": null,
      "outputs": []
    },
    {
      "cell_type": "code",
      "source": [
        "model.compile(loss=losses.CategoricalCrossentropy(),optimizer = optimizers.Adam(lr=1e-4),metrics=['accuracy']) # 학습률 = 0.0001"
      ],
      "metadata": {
        "id": "Nx6SA-_gMBlE"
      },
      "execution_count": null,
      "outputs": []
    },
    {
      "cell_type": "markdown",
      "source": [
        "### 4. 모델 학습하기"
      ],
      "metadata": {
        "id": "Dp3_ay6SOX0E"
      }
    },
    {
      "cell_type": "code",
      "source": [
        "history = model.fit(x_train1,y_train1,epochs=20,batch_size=32,validation_data = (x_test1,y_test1),shuffle=True) # shuffle : 배치를 섞는지 여부 "
      ],
      "metadata": {
        "id": "eZsfVPbjMBnv"
      },
      "execution_count": null,
      "outputs": []
    },
    {
      "cell_type": "markdown",
      "source": [
        "### 5. 결과 확인하기"
      ],
      "metadata": {
        "id": "kaZp2reyObQr"
      }
    },
    {
      "cell_type": "code",
      "source": [
        "acc = history.history['accuracy']\n",
        "val_acc = history.history['val_accuracy']\n",
        "loss = history.history['loss']\n",
        "val_loss = history.history['val_loss']"
      ],
      "metadata": {
        "id": "lQF-F8GQMBp_"
      },
      "execution_count": null,
      "outputs": []
    },
    {
      "cell_type": "code",
      "source": [
        "epochs = range(1,len(acc)+1)"
      ],
      "metadata": {
        "id": "hOaV9IncOU57"
      },
      "execution_count": null,
      "outputs": []
    },
    {
      "cell_type": "markdown",
      "source": [
        "##### 정확도와 손실함수 그래프 그리기"
      ],
      "metadata": {
        "id": "4BJ2uF-xOwn2"
      }
    },
    {
      "cell_type": "code",
      "source": [
        "plt.plot(epochs,acc,'b',color='blue',label='Training ACC')\n",
        "plt.plot(epochs,val_acc,'b',color='red',label='Validation ACC')\n",
        "plt.title('Training and Validation Accuracy',color='w')\n",
        "plt.legend()\n",
        "\n",
        "plt.figure()\n",
        "\n",
        "plt.plot(epochs,loss,'b',color='blue',label='Training loss')\n",
        "plt.plot(epochs,val_loss,'b',color='red',label='Validation loss')\n",
        "plt.title('Training and Validation Loss',color='w')\n",
        "plt.legend()\n",
        "\n",
        "plt.show()"
      ],
      "metadata": {
        "id": "S4cJDpW2MBtW"
      },
      "execution_count": null,
      "outputs": []
    },
    {
      "cell_type": "code",
      "source": [],
      "metadata": {
        "id": "JEiZMjtUMBv9"
      },
      "execution_count": null,
      "outputs": []
    },
    {
      "cell_type": "code",
      "source": [],
      "metadata": {
        "id": "9fWGU2NkMBy3"
      },
      "execution_count": null,
      "outputs": []
    },
    {
      "cell_type": "code",
      "source": [],
      "metadata": {
        "id": "Bj-meNfxMB2K"
      },
      "execution_count": null,
      "outputs": []
    },
    {
      "cell_type": "code",
      "source": [],
      "metadata": {
        "id": "r3fu1DDaMB5B"
      },
      "execution_count": null,
      "outputs": []
    },
    {
      "cell_type": "code",
      "source": [],
      "metadata": {
        "id": "AdbaG1cMMB7L"
      },
      "execution_count": null,
      "outputs": []
    },
    {
      "cell_type": "code",
      "source": [],
      "metadata": {
        "id": "AaWR8w88MB9a"
      },
      "execution_count": null,
      "outputs": []
    },
    {
      "cell_type": "code",
      "source": [],
      "metadata": {
        "id": "S7AmHscUMCAS"
      },
      "execution_count": null,
      "outputs": []
    },
    {
      "cell_type": "code",
      "source": [],
      "metadata": {
        "id": "OBN4ULHMMCCc"
      },
      "execution_count": null,
      "outputs": []
    },
    {
      "cell_type": "code",
      "source": [],
      "metadata": {
        "id": "4CHdkJLSMCEs"
      },
      "execution_count": null,
      "outputs": []
    },
    {
      "cell_type": "code",
      "source": [],
      "metadata": {
        "id": "MF9l_4EtBkh7"
      },
      "execution_count": null,
      "outputs": []
    },
    {
      "cell_type": "code",
      "source": [],
      "metadata": {
        "id": "PyzA5kjFBkkp"
      },
      "execution_count": null,
      "outputs": []
    }
  ]
}